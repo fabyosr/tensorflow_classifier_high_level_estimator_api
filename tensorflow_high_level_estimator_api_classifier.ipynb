{
 "cells": [
  {
   "cell_type": "markdown",
   "metadata": {},
   "source": [
    "# Logistic Regression Model using Tensorflow with low level API."
   ]
  },
  {
   "cell_type": "markdown",
   "metadata": {
    "heading_collapsed": true
   },
   "source": [
    "# 0 - IMPORTS"
   ]
  },
  {
   "cell_type": "code",
   "execution_count": 41,
   "metadata": {
    "ExecuteTime": {
     "end_time": "2020-12-04T20:31:50.466910Z",
     "start_time": "2020-12-04T20:31:50.460890Z"
    },
    "hidden": true
   },
   "outputs": [],
   "source": [
    "import math\n",
    "import pandas as pd\n",
    "import numpy as np\n",
    "import matplotlib.pyplot as plt\n",
    "import tensorflow as tf\n",
    "import warnings\n",
    "\n",
    "from sklearn.model_selection import train_test_split\n",
    "from sklearn.metrics import accuracy_score\n",
    "from sklearn.preprocessing import StandardScaler \n",
    "\n",
    "%matplotlib inline\n",
    "warnings.filterwarnings('ignore')"
   ]
  },
  {
   "cell_type": "markdown",
   "metadata": {
    "heading_collapsed": true
   },
   "source": [
    "# 1 - DATA LOAD"
   ]
  },
  {
   "cell_type": "code",
   "execution_count": 2,
   "metadata": {
    "ExecuteTime": {
     "end_time": "2020-12-04T19:44:28.197137Z",
     "start_time": "2020-12-04T19:44:27.863682Z"
    },
    "hidden": true
   },
   "outputs": [
    {
     "name": "stdout",
     "output_type": "stream",
     "text": [
      "Rows: 32561\n",
      "Cols: 15\n"
     ]
    },
    {
     "data": {
      "text/html": [
       "<div>\n",
       "<style scoped>\n",
       "    .dataframe tbody tr th:only-of-type {\n",
       "        vertical-align: middle;\n",
       "    }\n",
       "\n",
       "    .dataframe tbody tr th {\n",
       "        vertical-align: top;\n",
       "    }\n",
       "\n",
       "    .dataframe thead th {\n",
       "        text-align: right;\n",
       "    }\n",
       "</style>\n",
       "<table border=\"1\" class=\"dataframe\">\n",
       "  <thead>\n",
       "    <tr style=\"text-align: right;\">\n",
       "      <th></th>\n",
       "      <th>age</th>\n",
       "      <th>workclass</th>\n",
       "      <th>final-weight</th>\n",
       "      <th>education</th>\n",
       "      <th>education-num</th>\n",
       "      <th>marital-status</th>\n",
       "      <th>occupation</th>\n",
       "      <th>relationship</th>\n",
       "      <th>race</th>\n",
       "      <th>sex</th>\n",
       "      <th>capital-gain</th>\n",
       "      <th>capital-loos</th>\n",
       "      <th>hour-per-week</th>\n",
       "      <th>native-country</th>\n",
       "      <th>income</th>\n",
       "    </tr>\n",
       "  </thead>\n",
       "  <tbody>\n",
       "    <tr>\n",
       "      <th>0</th>\n",
       "      <td>39</td>\n",
       "      <td>State-gov</td>\n",
       "      <td>77516</td>\n",
       "      <td>Bachelors</td>\n",
       "      <td>13</td>\n",
       "      <td>Never-married</td>\n",
       "      <td>Adm-clerical</td>\n",
       "      <td>Not-in-family</td>\n",
       "      <td>White</td>\n",
       "      <td>Male</td>\n",
       "      <td>2174</td>\n",
       "      <td>0</td>\n",
       "      <td>40</td>\n",
       "      <td>United-States</td>\n",
       "      <td>&lt;=50K</td>\n",
       "    </tr>\n",
       "    <tr>\n",
       "      <th>1</th>\n",
       "      <td>50</td>\n",
       "      <td>Self-emp-not-inc</td>\n",
       "      <td>83311</td>\n",
       "      <td>Bachelors</td>\n",
       "      <td>13</td>\n",
       "      <td>Married-civ-spouse</td>\n",
       "      <td>Exec-managerial</td>\n",
       "      <td>Husband</td>\n",
       "      <td>White</td>\n",
       "      <td>Male</td>\n",
       "      <td>0</td>\n",
       "      <td>0</td>\n",
       "      <td>13</td>\n",
       "      <td>United-States</td>\n",
       "      <td>&lt;=50K</td>\n",
       "    </tr>\n",
       "    <tr>\n",
       "      <th>2</th>\n",
       "      <td>38</td>\n",
       "      <td>Private</td>\n",
       "      <td>215646</td>\n",
       "      <td>HS-grad</td>\n",
       "      <td>9</td>\n",
       "      <td>Divorced</td>\n",
       "      <td>Handlers-cleaners</td>\n",
       "      <td>Not-in-family</td>\n",
       "      <td>White</td>\n",
       "      <td>Male</td>\n",
       "      <td>0</td>\n",
       "      <td>0</td>\n",
       "      <td>40</td>\n",
       "      <td>United-States</td>\n",
       "      <td>&lt;=50K</td>\n",
       "    </tr>\n",
       "    <tr>\n",
       "      <th>3</th>\n",
       "      <td>53</td>\n",
       "      <td>Private</td>\n",
       "      <td>234721</td>\n",
       "      <td>11th</td>\n",
       "      <td>7</td>\n",
       "      <td>Married-civ-spouse</td>\n",
       "      <td>Handlers-cleaners</td>\n",
       "      <td>Husband</td>\n",
       "      <td>Black</td>\n",
       "      <td>Male</td>\n",
       "      <td>0</td>\n",
       "      <td>0</td>\n",
       "      <td>40</td>\n",
       "      <td>United-States</td>\n",
       "      <td>&lt;=50K</td>\n",
       "    </tr>\n",
       "    <tr>\n",
       "      <th>4</th>\n",
       "      <td>28</td>\n",
       "      <td>Private</td>\n",
       "      <td>338409</td>\n",
       "      <td>Bachelors</td>\n",
       "      <td>13</td>\n",
       "      <td>Married-civ-spouse</td>\n",
       "      <td>Prof-specialty</td>\n",
       "      <td>Wife</td>\n",
       "      <td>Black</td>\n",
       "      <td>Female</td>\n",
       "      <td>0</td>\n",
       "      <td>0</td>\n",
       "      <td>40</td>\n",
       "      <td>Cuba</td>\n",
       "      <td>&lt;=50K</td>\n",
       "    </tr>\n",
       "  </tbody>\n",
       "</table>\n",
       "</div>"
      ],
      "text/plain": [
       "   age          workclass  final-weight   education  education-num  \\\n",
       "0   39          State-gov         77516   Bachelors             13   \n",
       "1   50   Self-emp-not-inc         83311   Bachelors             13   \n",
       "2   38            Private        215646     HS-grad              9   \n",
       "3   53            Private        234721        11th              7   \n",
       "4   28            Private        338409   Bachelors             13   \n",
       "\n",
       "        marital-status          occupation    relationship    race      sex  \\\n",
       "0        Never-married        Adm-clerical   Not-in-family   White     Male   \n",
       "1   Married-civ-spouse     Exec-managerial         Husband   White     Male   \n",
       "2             Divorced   Handlers-cleaners   Not-in-family   White     Male   \n",
       "3   Married-civ-spouse   Handlers-cleaners         Husband   Black     Male   \n",
       "4   Married-civ-spouse      Prof-specialty            Wife   Black   Female   \n",
       "\n",
       "   capital-gain  capital-loos  hour-per-week  native-country  income  \n",
       "0          2174             0             40   United-States   <=50K  \n",
       "1             0             0             13   United-States   <=50K  \n",
       "2             0             0             40   United-States   <=50K  \n",
       "3             0             0             40   United-States   <=50K  \n",
       "4             0             0             40            Cuba   <=50K  "
      ]
     },
     "execution_count": 2,
     "metadata": {},
     "output_type": "execute_result"
    }
   ],
   "source": [
    "df1 = pd.read_csv('data\\census.csv')\n",
    "df_shape = df1.shape \n",
    "print('Rows: {}\\nCols: {}'.format(df_shape[0], df_shape[1]))\n",
    "df1.head()"
   ]
  },
  {
   "cell_type": "markdown",
   "metadata": {
    "heading_collapsed": true
   },
   "source": [
    "# 2 - DATA TRANSFORMATION"
   ]
  },
  {
   "cell_type": "code",
   "execution_count": 10,
   "metadata": {
    "ExecuteTime": {
     "end_time": "2020-12-04T19:50:57.078328Z",
     "start_time": "2020-12-04T19:50:57.071342Z"
    },
    "hidden": true
   },
   "outputs": [],
   "source": [
    "df2 = df1.copy()"
   ]
  },
  {
   "cell_type": "code",
   "execution_count": 11,
   "metadata": {
    "ExecuteTime": {
     "end_time": "2020-12-04T19:50:58.182358Z",
     "start_time": "2020-12-04T19:50:58.162405Z"
    },
    "hidden": true
   },
   "outputs": [
    {
     "data": {
      "text/plain": [
       "array([0, 1], dtype=int64)"
      ]
     },
     "execution_count": 11,
     "metadata": {},
     "output_type": "execute_result"
    }
   ],
   "source": [
    "# change target variable content to 0 or 1\n",
    "df2['income'] = df2['income'].apply( lambda x: 1 if x==' >50K' else 0)\n",
    "df2['income'].unique()"
   ]
  },
  {
   "cell_type": "markdown",
   "metadata": {
    "heading_collapsed": true
   },
   "source": [
    "# 3 - CREATE TRAIN & TEST DATASET"
   ]
  },
  {
   "cell_type": "code",
   "execution_count": 12,
   "metadata": {
    "ExecuteTime": {
     "end_time": "2020-12-04T19:52:12.728646Z",
     "start_time": "2020-12-04T19:52:12.704715Z"
    },
    "hidden": true
   },
   "outputs": [],
   "source": [
    "X = df2.drop('income',axis=1)\n",
    "y = df2.income"
   ]
  },
  {
   "cell_type": "code",
   "execution_count": 28,
   "metadata": {
    "ExecuteTime": {
     "end_time": "2020-12-04T20:24:54.793867Z",
     "start_time": "2020-12-04T20:24:54.776912Z"
    },
    "hidden": true
   },
   "outputs": [],
   "source": [
    "X_train, X_test, y_train, y_test = train_test_split(X, y, test_size=0.3)"
   ]
  },
  {
   "cell_type": "markdown",
   "metadata": {
    "ExecuteTime": {
     "end_time": "2020-11-25T22:36:50.767109Z",
     "start_time": "2020-11-25T22:36:50.762155Z"
    }
   },
   "source": [
    "# 5 - LOGISTIC REGRESSION MODEL"
   ]
  },
  {
   "cell_type": "markdown",
   "metadata": {
    "ExecuteTime": {
     "end_time": "2020-11-25T22:36:50.767109Z",
     "start_time": "2020-11-25T22:36:50.762155Z"
    },
    "heading_collapsed": true
   },
   "source": [
    "## 5.1 - Create Features"
   ]
  },
  {
   "cell_type": "code",
   "execution_count": 14,
   "metadata": {
    "ExecuteTime": {
     "end_time": "2020-12-04T19:53:17.824035Z",
     "start_time": "2020-12-04T19:53:17.697378Z"
    },
    "hidden": true
   },
   "outputs": [
    {
     "data": {
      "image/png": "[encoded data removed]",
      "text/plain": [
       "<Figure size 432x288 with 1 Axes>"
      ]
     },
     "metadata": {
      "needs_background": "light"
     },
     "output_type": "display_data"
    }
   ],
   "source": [
    "df2.age.hist();"
   ]
  },
  {
   "cell_type": "code",
   "execution_count": 21,
   "metadata": {
    "ExecuteTime": {
     "end_time": "2020-12-04T20:16:53.144987Z",
     "start_time": "2020-12-04T20:16:53.112075Z"
    },
    "hidden": true
   },
   "outputs": [],
   "source": [
    "# create tensorflow columns\n",
    "cat_columns = ['workclass', 'education', 'marital-status', 'occupation', 'relationship', 'race', 'sex', 'native-country']\n",
    "num_columns = ['final-weight', 'education-num', 'capital-gain', 'capital-loos', 'hour-per-week']\n",
    "\n",
    "age         = tf.feature_column.numeric_column('age')\n",
    "cat_age     = [ tf.feature_column.bucketized_column(age, boundaries=[20,30,40,50,60,70,80,90]  ) ]\n",
    "cat_columns = [ tf.feature_column.categorical_column_with_vocabulary_list( key=c, vocabulary_list=X[c].unique() ) for c in cat_columns ] \n",
    "num_columns = [ tf.feature_column.numeric_column( key=c ) for c in num_columns ] "
   ]
  },
  {
   "cell_type": "code",
   "execution_count": 24,
   "metadata": {
    "ExecuteTime": {
     "end_time": "2020-12-04T20:20:05.852314Z",
     "start_time": "2020-12-04T20:20:05.849318Z"
    },
    "hidden": true
   },
   "outputs": [],
   "source": [
    "model_columns = cat_age + cat_columns + num_columns"
   ]
  },
  {
   "cell_type": "markdown",
   "metadata": {
    "ExecuteTime": {
     "end_time": "2020-11-25T22:36:50.767109Z",
     "start_time": "2020-11-25T22:36:50.762155Z"
    },
    "heading_collapsed": true
   },
   "source": [
    "## 5.2 - Create Classifier"
   ]
  },
  {
   "cell_type": "code",
   "execution_count": null,
   "metadata": {
    "ExecuteTime": {
     "end_time": "2020-12-04T20:23:13.737979Z",
     "start_time": "2020-12-04T20:23:13.704039Z"
    },
    "hidden": true
   },
   "outputs": [],
   "source": [
    "lr_model = tf.estimator.LinearClassifier(feature_columns=model_columns)"
   ]
  },
  {
   "cell_type": "markdown",
   "metadata": {
    "ExecuteTime": {
     "end_time": "2020-11-25T22:36:50.767109Z",
     "start_time": "2020-11-25T22:36:50.762155Z"
    },
    "heading_collapsed": true
   },
   "source": [
    "## 5.3 - Create Train and Test Function "
   ]
  },
  {
   "cell_type": "code",
   "execution_count": 29,
   "metadata": {
    "ExecuteTime": {
     "end_time": "2020-12-04T20:24:59.259657Z",
     "start_time": "2020-12-04T20:24:59.251708Z"
    },
    "hidden": true
   },
   "outputs": [],
   "source": [
    "function_train = tf.estimator.inputs.pandas_input_fn( x=X_train, y=y_train, batch_size=32, num_epochs=None, shuffle=True )"
   ]
  },
  {
   "cell_type": "code",
   "execution_count": 30,
   "metadata": {
    "ExecuteTime": {
     "end_time": "2020-12-04T20:25:01.000927Z",
     "start_time": "2020-12-04T20:25:00.993944Z"
    },
    "hidden": true
   },
   "outputs": [],
   "source": [
    "function_test = tf.estimator.inputs.pandas_input_fn( x=X_test, y=y_test, batch_size=32, num_epochs=1000, shuffle=False )"
   ]
  },
  {
   "cell_type": "markdown",
   "metadata": {
    "ExecuteTime": {
     "end_time": "2020-11-25T22:36:50.767109Z",
     "start_time": "2020-11-25T22:36:50.762155Z"
    }
   },
   "source": [
    "## 5.4 - Train Regressor"
   ]
  },
  {
   "cell_type": "code",
   "execution_count": null,
   "metadata": {
    "ExecuteTime": {
     "end_time": "2020-12-04T20:25:51.852004Z",
     "start_time": "2020-12-04T20:25:14.525642Z"
    }
   },
   "outputs": [],
   "source": [
    "lr_model.train( input_fn=function_train, steps=10000 )"
   ]
  },
  {
   "cell_type": "markdown",
   "metadata": {
    "ExecuteTime": {
     "end_time": "2020-11-25T22:36:50.767109Z",
     "start_time": "2020-11-25T22:36:50.762155Z"
    }
   },
   "source": [
    "## 5.5 - Train Evaluation"
   ]
  },
  {
   "cell_type": "code",
   "execution_count": null,
   "metadata": {
    "ExecuteTime": {
     "end_time": "2020-12-04T20:30:39.150794Z",
     "start_time": "2020-12-04T20:30:19.343770Z"
    }
   },
   "outputs": [],
   "source": [
    "train_metrics = lr_model.evaluate( input_fn = function_train, steps=10000 )"
   ]
  },
  {
   "cell_type": "markdown",
   "metadata": {
    "ExecuteTime": {
     "end_time": "2020-11-25T22:36:50.767109Z",
     "start_time": "2020-11-25T22:36:50.762155Z"
    }
   },
   "source": [
    "## 5.6 - Test Evaluation"
   ]
  },
  {
   "cell_type": "code",
   "execution_count": null,
   "metadata": {
    "ExecuteTime": {
     "end_time": "2020-12-04T20:29:36.564652Z",
     "start_time": "2020-12-04T20:29:11.519175Z"
    },
    "scrolled": true
   },
   "outputs": [],
   "source": [
    "test_metrics = lr_model.evaluate( input_fn = function_test, steps=10000 )"
   ]
  },
  {
   "cell_type": "code",
   "execution_count": 40,
   "metadata": {
    "ExecuteTime": {
     "end_time": "2020-12-04T20:30:49.854260Z",
     "start_time": "2020-12-04T20:30:49.848279Z"
    }
   },
   "outputs": [
    {
     "data": {
      "text/plain": [
       "({'accuracy': 0.7883375,\n",
       "  'accuracy_baseline': 0.7577594,\n",
       "  'auc': 0.57189685,\n",
       "  'auc_precision_recall': 0.611773,\n",
       "  'average_loss': 105.1801,\n",
       "  'label/mean': 0.24224062,\n",
       "  'loss': 3365.7632,\n",
       "  'precision': 0.8681616,\n",
       "  'prediction/mean': 0.04152206,\n",
       "  'recall': 0.14883187,\n",
       "  'global_step': 10000},\n",
       " {'accuracy': 0.7908969,\n",
       "  'accuracy_baseline': 0.7624969,\n",
       "  'auc': 0.5685707,\n",
       "  'auc_precision_recall': 0.59728014,\n",
       "  'average_loss': 102.621216,\n",
       "  'label/mean': 0.23750313,\n",
       "  'loss': 3283.879,\n",
       "  'precision': 0.85295945,\n",
       "  'prediction/mean': 0.04020242,\n",
       "  'recall': 0.14448494,\n",
       "  'global_step': 10000})"
      ]
     },
     "execution_count": 40,
     "metadata": {},
     "output_type": "execute_result"
    }
   ],
   "source": [
    "train_metrics, test_metrics"
   ]
  },
  {
   "cell_type": "markdown",
   "metadata": {
    "ExecuteTime": {
     "end_time": "2020-11-25T22:36:50.767109Z",
     "start_time": "2020-11-25T22:36:50.762155Z"
    }
   },
   "source": [
    "## 5.7 - Model Prediction"
   ]
  },
  {
   "cell_type": "code",
   "execution_count": 32,
   "metadata": {
    "ExecuteTime": {
     "end_time": "2020-12-04T20:26:36.707874Z",
     "start_time": "2020-12-04T20:26:36.703849Z"
    }
   },
   "outputs": [],
   "source": [
    "# Create prediction function\n",
    "function_predict = tf.estimator.inputs.pandas_input_fn( x=X_test, shuffle=False )"
   ]
  },
  {
   "cell_type": "code",
   "execution_count": 33,
   "metadata": {
    "ExecuteTime": {
     "end_time": "2020-12-04T20:27:15.646605Z",
     "start_time": "2020-12-04T20:27:15.642617Z"
    }
   },
   "outputs": [],
   "source": [
    "y_predict = lr_model.predict( input_fn = function_predict )"
   ]
  },
  {
   "cell_type": "code",
   "execution_count": null,
   "metadata": {
    "ExecuteTime": {
     "end_time": "2020-12-04T20:33:53.714830Z",
     "start_time": "2020-12-04T20:33:51.605074Z"
    }
   },
   "outputs": [],
   "source": [
    "y_predict_values = []\n",
    "for p in lr_model.predict( input_fn = function_predict ):\n",
    "    y_predict_values.append(p['class_ids'])"
   ]
  },
  {
   "cell_type": "code",
   "execution_count": 44,
   "metadata": {
    "ExecuteTime": {
     "end_time": "2020-12-04T20:34:08.555746Z",
     "start_time": "2020-12-04T20:34:08.534770Z"
    }
   },
   "outputs": [
    {
     "data": {
      "text/plain": [
       "0.7908690756474562"
      ]
     },
     "execution_count": 44,
     "metadata": {},
     "output_type": "execute_result"
    }
   ],
   "source": [
    "acc_score = accuracy_score( y_test, y_predict_values )\n",
    "acc_score"
   ]
  }
 ],
 "metadata": {
  "kernelspec": {
   "display_name": "Python 3",
   "language": "python",
   "name": "python3"
  },
  "language_info": {
   "codemirror_mode": {
    "name": "ipython",
    "version": 3
   },
   "file_extension": ".py",
   "mimetype": "text/x-python",
   "name": "python",
   "nbconvert_exporter": "python",
   "pygments_lexer": "ipython3",
   "version": "3.7.9"
  }
 },
 "nbformat": 4,
 "nbformat_minor": 2
}
